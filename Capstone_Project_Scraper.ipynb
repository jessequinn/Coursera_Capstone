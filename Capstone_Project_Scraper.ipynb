{
 "cells": [
  {
   "cell_type": "markdown",
   "metadata": {},
   "source": [
    "import libraries, assign column names for pandas, search url for specific class and capute that data"
   ]
  },
  {
   "cell_type": "code",
   "execution_count": 168,
   "metadata": {},
   "outputs": [],
   "source": [
    "# import libraries\n",
    "import json, requests\n",
    "from bs4 import BeautifulSoup\n",
    "import pandas as pd\n",
    "import numpy as np\n",
    "\n",
    "# assign column names\n",
    "columns = ['PostalCode', 'Borough', 'Neighborhood']\n",
    "\n",
    "# get html from url using lxml parser and return only data within the wikitable sortable class\n",
    "resp = requests.get('https://en.wikipedia.org/wiki/List_of_postal_codes_of_Canada:_M').text\n",
    "soup = BeautifulSoup(resp, 'lxml')\n",
    "data = soup.find('table',{'class':'wikitable sortable'})"
   ]
  },
  {
   "cell_type": "markdown",
   "metadata": {},
   "source": [
    "iterate through captured data and place each row into array as an array"
   ]
  },
  {
   "cell_type": "code",
   "execution_count": 169,
   "metadata": {},
   "outputs": [],
   "source": [
    "# iterate through rows and save as multideminsional array\n",
    "sites = []\n",
    "for row in data.findAll('tr')[1:]:\n",
    "    cells = row.find_all(['td', 'th'])\n",
    "   \n",
    "    try:\n",
    "        postalCode, borough, neighborhood = cells[0].text, cells[1].text, cells[2].text\n",
    "    except IndexError:\n",
    "        continue\n",
    "\n",
    "    sites.append([postalCode, borough, neighborhood.rstrip()])"
   ]
  },
  {
   "cell_type": "markdown",
   "metadata": {},
   "source": [
    "create dataFrame, remove Not assigned Borough and reassign Not assigned Neighborhood with Borough"
   ]
  },
  {
   "cell_type": "code",
   "execution_count": 170,
   "metadata": {},
   "outputs": [],
   "source": [
    "# create dataFrame from data and assign column names\n",
    "df = pd.DataFrame(sites, columns=columns)\n",
    "\n",
    "# drop Not assigned rows for Borough\n",
    "df = df[~df['Borough'].isin(['Not assigned'])]\n",
    "# df = df[~df['Neighborhood'].isin(['Not assigned'])]\n",
    "\n",
    "# assign Borough to Neighborhood that has Not assigned\n",
    "df.loc[df['Neighborhood'] == 'Not assigned', 'Neighborhood'] = df['Borough']\n"
   ]
  },
  {
   "cell_type": "markdown",
   "metadata": {},
   "source": [
    "groupby PostalCode and Borough and apply join on Neighborhood. convert series to dataFrame and reset index."
   ]
  },
  {
   "cell_type": "code",
   "execution_count": 171,
   "metadata": {},
   "outputs": [
    {
     "name": "stdout",
     "output_type": "stream",
     "text": [
      "(103, 3)\n"
     ]
    }
   ],
   "source": [
    "# groupby PostalCode and apply join to Neighborhood. Convert series to dataFrame and reset index\n",
    "df = df.groupby(['PostalCode', 'Borough'], sort=False)['Neighborhood'].apply(', '.join).to_frame().reset_index(drop=False)\n",
    "\n",
    "print(df.shape)"
   ]
  },
  {
   "cell_type": "code",
   "execution_count": null,
   "metadata": {},
   "outputs": [],
   "source": []
  }
 ],
 "metadata": {
  "kernelspec": {
   "display_name": "Python 3",
   "language": "python",
   "name": "python3"
  },
  "language_info": {
   "codemirror_mode": {
    "name": "ipython",
    "version": 3
   },
   "file_extension": ".py",
   "mimetype": "text/x-python",
   "name": "python",
   "nbconvert_exporter": "python",
   "pygments_lexer": "ipython3",
   "version": "3.7.0"
  }
 },
 "nbformat": 4,
 "nbformat_minor": 2
}
